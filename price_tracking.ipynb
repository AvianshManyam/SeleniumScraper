{
 "cells": [
  {
   "cell_type": "code",
   "execution_count": 1,
   "metadata": {},
   "outputs": [],
   "source": [
    "import csv\n",
    "import time\n",
    "from datetime import datetime\n",
    "from selenium import webdriver\n",
    "from selenium.webdriver.chrome.service import Service\n",
    "from selenium.webdriver.chrome.options import Options\n",
    "from selenium.webdriver.common.by import By\n",
    "from selenium.webdriver.support.ui import WebDriverWait\n",
    "from selenium.webdriver.support import expected_conditions as EC\n",
    "from fake_useragent import UserAgent\n",
    "\n",
    "\n"
   ]
  },
  {
   "cell_type": "code",
   "execution_count": 2,
   "metadata": {},
   "outputs": [],
   "source": [
    "# here the product i've wanted to track or its webpage\n",
    "product_url = \"https://www.myntra.com/watches/casio/casio-men-g-shock-ga-2100-1a1dr-black-analog-digital-dial-black-resin-strap-watch-g987/10761810/buy\"\n",
    "price_threshold = 6500 #  so here the Price limit set to ₹6500 for the product\n",
    "csv_file = r\"C:\\\\Users\\Ari\\\\Desktop\\\\SeleniumScraper\\\\myntra.csv\"  \n",
    "chrome_driver = \"C:\\\\Users\\\\Ari\\\\Downloads\\\\chromedriver-win64\\\\chromedriver-win64\\\\chromedriver.exe\"  # Download ChromeDriver; if you are using Brave, specify the binary path for the WebDriver\n",
    "\n",
    "\n",
    "# set Chrome options and set a dynamic user-agent to mimic real user behavior\n",
    "\n",
    "options = Options()\n",
    "ua = UserAgent()\n",
    "options.add_argument(f\"user-agent={ua.random}\") \n",
    "\n",
    "options.add_argument(\"--headless\")# entirely optional\n",
    "options.add_argument(\"--disable-gpu\")\n",
    "options.add_argument(\"--disable-popup-blocking\")  # Disable popups\n",
    "options.add_argument(\"--disable-notifications\")  # Disable notifications\n",
    "options.add_argument(\"--disable-infobars\") \n",
    "\n",
    "# Set up Service\n",
    "service = Service(chrome_driver) \n",
    "\n",
    "# Ensure header is written only if the file is empty (it defines the columns for the scraped data)\n",
    "def ensure_header():\n",
    "    with open(csv_file, mode=\"a\", newline=\"\", encoding=\"utf-8\") as file:  \n",
    "        if file.tell() == 0: # Checking if the file is empty before adding header \n",
    "            csv.writer(file).writerow([\"Product Name\", \"Price\", \"Date\"]) # it adds column headers after confirming file is empty\n",
    "\n",
    "\n",
    "\n",
    "ensure_header()\n"
   ]
  },
  {
   "cell_type": "code",
   "execution_count": 3,
   "metadata": {},
   "outputs": [
    {
     "name": "stdout",
     "output_type": "stream",
     "text": [
      "Extracted: CASIO, 9195, 2024-11-24 04:35:14\n",
      "Logged to CSV: CASIO, 9195, 2024-11-24 04:35:14\n"
     ]
    }
   ],
   "source": [
    "while True: #it creates an infinite loop to track the price\n",
    "    driver = webdriver.Chrome(service=service, options=options)  #as we know it initialize the Chrome WebDriver with our specified options\n",
    "    \n",
    "    try:\n",
    "        driver.get(product_url)\n",
    "        wait = WebDriverWait(driver, 20)  # Make the driver wait for up to 20 seconds for the page to load\n",
    "        product_name = wait.until(EC.presence_of_element_located((By.CSS_SELECTOR, \"h1.pdp-title\"))).text #extracted the product name from the webpage and make it text\n",
    "        price = int(wait.until(EC.presence_of_element_located((By.CSS_SELECTOR, \"strong\"))).text.replace(\"₹\", \"\").replace(\",\", \"\").strip()) #we are extracting the price as text and make it int.\n",
    "        current_date = datetime.now().strftime(\"%Y-%m-%d %H:%M:%S\") \n",
    "\n",
    "    \n",
    "        print(f\"Extracted: {product_name}, {price}, {current_date}\")\n",
    "\n",
    "        # Check if price is below threshold\n",
    "        if price < price_threshold:\n",
    "            print(f\"Price alert! {product_name} is now {price}.\")\n",
    "\n",
    "        # Write product details to CSV\n",
    "        with open(csv_file, \"a\", newline=\"\", encoding=\"utf-8\") as file:\n",
    "            csv.writer(file).writerow([product_name, price, current_date])\n",
    "            print(f\"Logged to CSV: {product_name}, {price}, {current_date}\")\n",
    "            \n",
    "    except Exception as e:\n",
    "        print(f\"Error: {e}\")\n",
    "    \n",
    "    finally:\n",
    "        # Close the browser\n",
    "        driver.quit()\n",
    "\n",
    "    # Wait for 86400 seconds (24 hours) before checking again\n",
    "    time.sleep(86400)\n"
   ]
  }
 ],
 "metadata": {
  "kernelspec": {
   "display_name": "Python 3",
   "language": "python",
   "name": "python3"
  },
  "language_info": {
   "codemirror_mode": {
    "name": "ipython",
    "version": 3
   },
   "file_extension": ".py",
   "mimetype": "text/x-python",
   "name": "python",
   "nbconvert_exporter": "python",
   "pygments_lexer": "ipython3",
   "version": "3.12.4"
  }
 },
 "nbformat": 4,
 "nbformat_minor": 2
}
